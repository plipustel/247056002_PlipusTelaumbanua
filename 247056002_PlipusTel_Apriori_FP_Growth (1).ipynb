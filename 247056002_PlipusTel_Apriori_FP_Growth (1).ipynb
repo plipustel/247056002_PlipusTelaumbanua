{
  "nbformat": 4,
  "nbformat_minor": 0,
  "metadata": {
    "colab": {
      "provenance": []
    },
    "kernelspec": {
      "name": "python3",
      "display_name": "Python 3"
    },
    "language_info": {
      "name": "python"
    }
  },
  "cells": [
    {
      "cell_type": "markdown",
      "source": [
        "# 1. Import Library"
      ],
      "metadata": {
        "id": "l-1rynKHpEHq"
      }
    },
    {
      "cell_type": "code",
      "execution_count": 11,
      "metadata": {
        "id": "u7rD4KpFf3gh"
      },
      "outputs": [],
      "source": [
        "# Cell 1: Import library\n",
        "import pandas as pd\n",
        "from itertools import combinations\n",
        "from collections import defaultdict, Counter\n"
      ]
    },
    {
      "cell_type": "markdown",
      "source": [
        "# 2. Data Transaksi"
      ],
      "metadata": {
        "id": "OAr7gsX3pHYx"
      }
    },
    {
      "cell_type": "code",
      "source": [
        "# Cell 2: Data transaksi\n",
        "transactions = {\n",
        "    1000: ['M', 'O', 'N', 'K', 'E', 'Y'],\n",
        "    2000: ['D', 'O', 'N', 'K', 'E', 'Y'],\n",
        "    4000: ['M', 'A', 'K', 'E'],\n",
        "    5000: ['M', 'U', 'C', 'K', 'Y'],\n",
        "    6000: ['C', 'O', 'O', 'K', 'I', 'E'],\n",
        "    7000: ['D', 'O', 'N', 'M', 'O', 'N']\n",
        "}\n",
        "min_support = 5  # sesuai 80% dari 6 transaksi\n"
      ],
      "metadata": {
        "id": "-zTpjNt_pJsk"
      },
      "execution_count": 12,
      "outputs": []
    },
    {
      "cell_type": "markdown",
      "source": [
        "# 3. APRORI METHOD"
      ],
      "metadata": {
        "id": "OmrhZtaWpLw1"
      }
    },
    {
      "cell_type": "markdown",
      "source": [
        "***3.1 Hitung 1-itemset dan support***"
      ],
      "metadata": {
        "id": "cmxbDxyLpN81"
      }
    },
    {
      "cell_type": "code",
      "source": [
        "# Cell 3: Hitung frekuensi 1-itemset\n",
        "all_items = []\n",
        "for items in transactions.values():\n",
        "    all_items.extend(items)\n",
        "\n",
        "item_counts = Counter(all_items)\n",
        "frequent_1_itemset = {item for item, count in item_counts.items() if count >= min_support}\n",
        "print(\"Frequent 1-itemset:\", frequent_1_itemset)\n"
      ],
      "metadata": {
        "colab": {
          "base_uri": "https://localhost:8080/"
        },
        "id": "hQG5bRX1pSP6",
        "outputId": "8fa70235-cc5d-4504-9e8a-fd770d35632d"
      },
      "execution_count": 13,
      "outputs": [
        {
          "output_type": "stream",
          "name": "stdout",
          "text": [
            "Frequent 1-itemset: {'K', 'O'}\n"
          ]
        }
      ]
    },
    {
      "cell_type": "markdown",
      "source": [
        "***3.2 Generate 2-itemset dan supportnya***"
      ],
      "metadata": {
        "id": "i9i8x_QrpVo5"
      }
    },
    {
      "cell_type": "code",
      "source": [
        "# Cell 4: Hitung frekuensi 2-itemset\n",
        "pair_counts = defaultdict(int)\n",
        "\n",
        "for items in transactions.values():\n",
        "    filtered = [item for item in items if item in frequent_1_itemset]\n",
        "    for pair in combinations(sorted(set(filtered)), 2):\n",
        "        pair_counts[pair] += 1\n",
        "\n",
        "frequent_2_itemset = {pair: count for pair, count in pair_counts.items() if count >= min_support}\n",
        "print(\"Frequent 2-itemset:\", frequent_2_itemset)\n"
      ],
      "metadata": {
        "colab": {
          "base_uri": "https://localhost:8080/"
        },
        "id": "qRh38DyCpUqi",
        "outputId": "2857f3ec-2b9e-4115-a63f-17bfecc4f0b1"
      },
      "execution_count": 14,
      "outputs": [
        {
          "output_type": "stream",
          "name": "stdout",
          "text": [
            "Frequent 2-itemset: {}\n"
          ]
        }
      ]
    },
    {
      "cell_type": "markdown",
      "source": [
        "***3.3. Confidence dari aturan asosiasi***"
      ],
      "metadata": {
        "id": "_olKFOfapZBp"
      }
    },
    {
      "cell_type": "code",
      "source": [
        "# Cell 5: Hitung confidence dari aturan asosiasi 2-itemset dengan pengecekan isi\n",
        "def get_support(item, transactions):\n",
        "    return sum(1 for trans in transactions.values() if item in trans)\n",
        "\n",
        "if not frequent_2_itemset:\n",
        "    print(\"Tidak ada frequent 2-itemset yang memenuhi minimum support.\")\n",
        "else:\n",
        "    for (A, B), support_AB in frequent_2_itemset.items():\n",
        "        support_A = get_support(A, transactions)\n",
        "        support_B = get_support(B, transactions)\n",
        "\n",
        "        conf_A_to_B = support_AB / support_A * 100\n",
        "        conf_B_to_A = support_AB / support_B * 100\n",
        "\n",
        "        print(f\"{A} → {B} = {conf_A_to_B:.2f}%\")\n",
        "        print(f\"{B} → {A} = {conf_B_to_A:.2f}%\")\n"
      ],
      "metadata": {
        "colab": {
          "base_uri": "https://localhost:8080/"
        },
        "id": "7xqY8VVFpdfJ",
        "outputId": "3e87df21-2161-4b8e-c549-d4f7a7e4fe5d"
      },
      "execution_count": 20,
      "outputs": [
        {
          "output_type": "stream",
          "name": "stdout",
          "text": [
            "Tidak ada frequent 2-itemset yang memenuhi minimum support.\n"
          ]
        }
      ]
    },
    {
      "cell_type": "markdown",
      "source": [
        "# 4. FP GROWTH"
      ],
      "metadata": {
        "id": "b_QTphrPp8zK"
      }
    },
    {
      "cell_type": "markdown",
      "source": [
        "***4.1 Frekuensi dan filter item berdasarkan min support***"
      ],
      "metadata": {
        "id": "FG1QdPztp-NN"
      }
    },
    {
      "cell_type": "code",
      "source": [
        "# Cell 6: Hitung frekuensi & filter item untuk FP-Growth\n",
        "item_counts_fp = Counter()\n",
        "for items in transactions.values():\n",
        "    item_counts_fp.update(items)\n",
        "\n",
        "frequent_items_fp = {item for item, count in item_counts_fp.items() if count >= min_support}\n",
        "print(\"Frequent items FP-Growth:\", frequent_items_fp)\n"
      ],
      "metadata": {
        "colab": {
          "base_uri": "https://localhost:8080/"
        },
        "id": "C8puZFvyqAOB",
        "outputId": "6f6d913a-19e2-47fd-9ef6-1fa8ee5b005a"
      },
      "execution_count": 21,
      "outputs": [
        {
          "output_type": "stream",
          "name": "stdout",
          "text": [
            "Frequent items FP-Growth: {'K', 'O'}\n"
          ]
        }
      ]
    },
    {
      "cell_type": "markdown",
      "source": [
        "***4.2 Transaksi berdasarkan urutan frekuensi***"
      ],
      "metadata": {
        "id": "Ew3Dt9csqCr5"
      }
    },
    {
      "cell_type": "code",
      "source": [
        "# Cell 7: Urutkan item di tiap transaksi berdasarkan frekuensi global\n",
        "sorted_items = sorted(frequent_items_fp, key=lambda x: item_counts_fp[x], reverse=True)\n",
        "\n",
        "sorted_transactions = []\n",
        "for items in transactions.values():\n",
        "    filtered = [item for item in items if item in frequent_items_fp]\n",
        "    ordered = sorted(filtered, key=lambda x: sorted_items.index(x))\n",
        "    sorted_transactions.append(ordered)\n",
        "\n",
        "print(\"Transaksi setelah diurutkan:\", sorted_transactions)\n"
      ],
      "metadata": {
        "colab": {
          "base_uri": "https://localhost:8080/"
        },
        "id": "U12J75v8qCba",
        "outputId": "f5f06d48-e762-4137-a3a2-14088b766515"
      },
      "execution_count": 22,
      "outputs": [
        {
          "output_type": "stream",
          "name": "stdout",
          "text": [
            "Transaksi setelah diurutkan: [['O', 'K'], ['O', 'K'], ['K'], ['K'], ['O', 'O', 'K'], ['O', 'O']]\n"
          ]
        }
      ]
    },
    {
      "cell_type": "markdown",
      "source": [
        "***4.3 Struktur FP-Tree***"
      ],
      "metadata": {
        "id": "5q0zJAOxqHGd"
      }
    },
    {
      "cell_type": "code",
      "source": [
        "# Cell 8: Visualisasi FP-Tree langsung di layar (inline)\n",
        "from graphviz import Digraph\n",
        "from graphviz import Source  # untuk render inline di notebook\n",
        "\n",
        "class TreeNode:\n",
        "    def __init__(self, item, count=1):\n",
        "        self.item = item\n",
        "        self.count = count\n",
        "        self.children = {}\n",
        "\n",
        "    def increment(self):\n",
        "        self.count += 1\n",
        "\n",
        "def build_fp_tree(transactions):\n",
        "    root = TreeNode(\"null\")\n",
        "    for transaction in transactions:\n",
        "        current = root\n",
        "        for item in transaction:\n",
        "            if item in current.children:\n",
        "                current.children[item].increment()\n",
        "            else:\n",
        "                current.children[item] = TreeNode(item)\n",
        "            current = current.children[item]\n",
        "    return root\n",
        "\n",
        "def visualize_fp_tree(node, dot=None, parent_name=\"null\"):\n",
        "    if dot is None:\n",
        "        dot = Digraph()\n",
        "        dot.node(\"null\", \"null\")  # root node\n",
        "\n",
        "    for child_item, child_node in node.children.items():\n",
        "        node_id = f\"{child_node.item}_{id(child_node)}\"\n",
        "        label = f\"{child_node.item}:{child_node.count}\"\n",
        "\n",
        "        dot.node(node_id, label)\n",
        "        dot.edge(parent_name, node_id)\n",
        "\n",
        "        visualize_fp_tree(child_node, dot, node_id)\n",
        "\n",
        "    return dot\n",
        "\n",
        "# Bangun dan tampilkan FP-Tree\n",
        "fp_tree = build_fp_tree(sorted_transactions)\n",
        "dot = visualize_fp_tree(fp_tree)\n",
        "\n",
        "# Tampilkan langsung di notebook (bukan render ke file)\n",
        "Source(dot)  # ini akan otomatis ditampilkan di output cell\n",
        "from graphviz import Source\n",
        "\n",
        "# Bangun dan tampilkan FP-Tree\n",
        "fp_tree = build_fp_tree(sorted_transactions)\n",
        "dot = visualize_fp_tree(fp_tree)\n",
        "\n",
        "# ✅ Tampilkan langsung dalam cell\n",
        "Source(dot.source)\n"
      ],
      "metadata": {
        "colab": {
          "base_uri": "https://localhost:8080/",
          "height": 368
        },
        "id": "7Giorz_rqKTB",
        "outputId": "1f8ca6f8-03df-44da-9bce-bda989e8eb99"
      },
      "execution_count": 32,
      "outputs": [
        {
          "output_type": "execute_result",
          "data": {
            "image/svg+xml": "<?xml version=\"1.0\" encoding=\"UTF-8\" standalone=\"no\"?>\n<!DOCTYPE svg PUBLIC \"-//W3C//DTD SVG 1.1//EN\"\n \"http://www.w3.org/Graphics/SVG/1.1/DTD/svg11.dtd\">\n<!-- Generated by graphviz version 2.43.0 (0)\n -->\n<!-- Title: %3 Pages: 1 -->\n<svg width=\"170pt\" height=\"260pt\"\n viewBox=\"0.00 0.00 170.00 260.00\" xmlns=\"http://www.w3.org/2000/svg\" xmlns:xlink=\"http://www.w3.org/1999/xlink\">\n<g id=\"graph0\" class=\"graph\" transform=\"scale(1 1) rotate(0) translate(4 256)\">\n<title>%3</title>\n<polygon fill=\"white\" stroke=\"transparent\" points=\"-4,4 -4,-256 166,-256 166,4 -4,4\"/>\n<!-- null -->\n<g id=\"node1\" class=\"node\">\n<title>null</title>\n<ellipse fill=\"none\" stroke=\"black\" cx=\"99\" cy=\"-234\" rx=\"27\" ry=\"18\"/>\n<text text-anchor=\"middle\" x=\"99\" y=\"-230.3\" font-family=\"Times,serif\" font-size=\"14.00\">null</text>\n</g>\n<!-- O_135882885379984 -->\n<g id=\"node2\" class=\"node\">\n<title>O_135882885379984</title>\n<ellipse fill=\"none\" stroke=\"black\" cx=\"63\" cy=\"-162\" rx=\"27\" ry=\"18\"/>\n<text text-anchor=\"middle\" x=\"63\" y=\"-158.3\" font-family=\"Times,serif\" font-size=\"14.00\">O:4</text>\n</g>\n<!-- null&#45;&gt;O_135882885379984 -->\n<g id=\"edge1\" class=\"edge\">\n<title>null&#45;&gt;O_135882885379984</title>\n<path fill=\"none\" stroke=\"black\" d=\"M90.65,-216.76C86.29,-208.28 80.85,-197.71 75.96,-188.2\"/>\n<polygon fill=\"black\" stroke=\"black\" points=\"78.99,-186.44 71.3,-179.15 72.77,-189.64 78.99,-186.44\"/>\n</g>\n<!-- K_135882884728848 -->\n<g id=\"node6\" class=\"node\">\n<title>K_135882884728848</title>\n<ellipse fill=\"none\" stroke=\"black\" cx=\"135\" cy=\"-162\" rx=\"27\" ry=\"18\"/>\n<text text-anchor=\"middle\" x=\"135\" y=\"-158.3\" font-family=\"Times,serif\" font-size=\"14.00\">K:2</text>\n</g>\n<!-- null&#45;&gt;K_135882884728848 -->\n<g id=\"edge5\" class=\"edge\">\n<title>null&#45;&gt;K_135882884728848</title>\n<path fill=\"none\" stroke=\"black\" d=\"M107.35,-216.76C111.71,-208.28 117.15,-197.71 122.04,-188.2\"/>\n<polygon fill=\"black\" stroke=\"black\" points=\"125.23,-189.64 126.7,-179.15 119.01,-186.44 125.23,-189.64\"/>\n</g>\n<!-- K_135882884728912 -->\n<g id=\"node3\" class=\"node\">\n<title>K_135882884728912</title>\n<ellipse fill=\"none\" stroke=\"black\" cx=\"27\" cy=\"-90\" rx=\"27\" ry=\"18\"/>\n<text text-anchor=\"middle\" x=\"27\" y=\"-86.3\" font-family=\"Times,serif\" font-size=\"14.00\">K:2</text>\n</g>\n<!-- O_135882885379984&#45;&gt;K_135882884728912 -->\n<g id=\"edge2\" class=\"edge\">\n<title>O_135882885379984&#45;&gt;K_135882884728912</title>\n<path fill=\"none\" stroke=\"black\" d=\"M54.65,-144.76C50.29,-136.28 44.85,-125.71 39.96,-116.2\"/>\n<polygon fill=\"black\" stroke=\"black\" points=\"42.99,-114.44 35.3,-107.15 36.77,-117.64 42.99,-114.44\"/>\n</g>\n<!-- O_135882884729360 -->\n<g id=\"node4\" class=\"node\">\n<title>O_135882884729360</title>\n<ellipse fill=\"none\" stroke=\"black\" cx=\"99\" cy=\"-90\" rx=\"27\" ry=\"18\"/>\n<text text-anchor=\"middle\" x=\"99\" y=\"-86.3\" font-family=\"Times,serif\" font-size=\"14.00\">O:2</text>\n</g>\n<!-- O_135882885379984&#45;&gt;O_135882884729360 -->\n<g id=\"edge3\" class=\"edge\">\n<title>O_135882885379984&#45;&gt;O_135882884729360</title>\n<path fill=\"none\" stroke=\"black\" d=\"M71.35,-144.76C75.71,-136.28 81.15,-125.71 86.04,-116.2\"/>\n<polygon fill=\"black\" stroke=\"black\" points=\"89.23,-117.64 90.7,-107.15 83.01,-114.44 89.23,-117.64\"/>\n</g>\n<!-- K_135882884729424 -->\n<g id=\"node5\" class=\"node\">\n<title>K_135882884729424</title>\n<ellipse fill=\"none\" stroke=\"black\" cx=\"99\" cy=\"-18\" rx=\"27\" ry=\"18\"/>\n<text text-anchor=\"middle\" x=\"99\" y=\"-14.3\" font-family=\"Times,serif\" font-size=\"14.00\">K:1</text>\n</g>\n<!-- O_135882884729360&#45;&gt;K_135882884729424 -->\n<g id=\"edge4\" class=\"edge\">\n<title>O_135882884729360&#45;&gt;K_135882884729424</title>\n<path fill=\"none\" stroke=\"black\" d=\"M99,-71.7C99,-63.98 99,-54.71 99,-46.11\"/>\n<polygon fill=\"black\" stroke=\"black\" points=\"102.5,-46.1 99,-36.1 95.5,-46.1 102.5,-46.1\"/>\n</g>\n</g>\n</svg>\n",
            "text/plain": [
              "<graphviz.sources.Source at 0x7b95dea52690>"
            ]
          },
          "metadata": {},
          "execution_count": 32
        }
      ]
    }
  ]
}