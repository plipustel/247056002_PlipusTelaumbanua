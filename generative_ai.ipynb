{
 "cells": [
  {
   "cell_type": "markdown",
   "metadata": {},
   "source": [
    "TUGAS KCB (GENERATIVE AGLGORITHM)<BR>\n",
    "NAMA    :   PLIPUS TELAUMBANUA<BR>\n",
    "NIM     :   247056002 <BR>"
   ]
  },
  {
   "cell_type": "code",
   "execution_count": 48,
   "metadata": {},
   "outputs": [],
   "source": [
    "import random\n",
    "\n",
    "# Durasi kegiatan\n",
    "durasi = {\n",
    "    'A': 2,\n",
    "    'B': 3,\n",
    "    'C': 2,\n",
    "    'D': 4\n",
    "}\n",
    "\n",
    "# Total waktu maksimum\n",
    "maks_waktu = 8"
   ]
  },
  {
   "cell_type": "markdown",
   "metadata": {},
   "source": [
    "##### 2. Fungsi hitung_fitness: Menghitung nilai kecocokan (fitness) untuk setiap jadwal. Jika jadwal memenuhi semua syarat, <br>fitness adalah total waktu. Jika tidak, fitness diatur menjadi 0."
   ]
  },
  {
   "cell_type": "code",
   "execution_count": 49,
   "metadata": {},
   "outputs": [],
   "source": [
    "# Fungsi untuk menghitung fitness (kecocokan) jadwal\n",
    "def hitung_fitness(jadwal):\n",
    "    waktu_total = sum(durasi[kegiatan] for kegiatan in jadwal)\n",
    "    \n",
    "    # Cek syarat\n",
    "    syarat_1 = jadwal.index('A') < jadwal.index('B')  # A sebelum B\n",
    "    syarat_2 = abs(jadwal.index('C') - jadwal.index('D')) > 1  # C dan D tidak bersamaan\n",
    "    syarat_3 = waktu_total <= maks_waktu  # Total waktu tidak lebih dari 8 jam\n",
    "    \n",
    "    # Jika semua syarat terpenuhi, fitness adalah waktu total; jika tidak, fitness sangat rendah\n",
    "    if syarat_1 and syarat_2 and syarat_3:\n",
    "        return waktu_total\n",
    "    else:\n",
    "        return 0  # Tidak memenuhi syarat"
   ]
  },
  {
   "cell_type": "markdown",
   "metadata": {},
   "source": [
    "#### 2. Inisialisasi Populasi: Membuat populasi awal dengan urutan acak kegiatan."
   ]
  },
  {
   "cell_type": "code",
   "execution_count": 50,
   "metadata": {},
   "outputs": [],
   "source": [
    "# Inisialisasi populasi\n",
    "def inisialisasi_populasi(ukuran):\n",
    "    populasi = []\n",
    "    kegiatan = list(durasi.keys())\n",
    "    for _ in range(ukuran):\n",
    "        random.shuffle(kegiatan)\n",
    "        populasi.append(kegiatan[:])\n",
    "    return populasi"
   ]
  },
  {
   "cell_type": "markdown",
   "metadata": {},
   "source": [
    "#### 3. Seleksi: Memilih individu terbaik berdasarkan fitness."
   ]
  },
  {
   "cell_type": "code",
   "execution_count": 51,
   "metadata": {},
   "outputs": [],
   "source": [
    "# Seleksi individu terbaik berdasarkan fitness\n",
    "def seleksi(populasi):\n",
    "    populasi = sorted(populasi, key=lambda x: hitung_fitness(x), reverse=True)\n",
    "    return populasi[:len(populasi)//2]"
   ]
  },
  {
   "cell_type": "markdown",
   "metadata": {},
   "source": [
    "#### 4. Crossover: Menggabungkan dua jadwal (parent) untuk menghasilkan jadwal baru (child)."
   ]
  },
  {
   "cell_type": "code",
   "execution_count": 52,
   "metadata": {},
   "outputs": [],
   "source": [
    "# Crossover (kombinasi) dua jadwal\n",
    "def crossover(parent1, parent2):\n",
    "    cut = random.randint(1, len(parent1) - 2)\n",
    "    child = parent1[:cut] + [kegiatan for kegiatan in parent2 if kegiatan not in parent1[:cut]]\n",
    "    return child"
   ]
  },
  {
   "cell_type": "markdown",
   "metadata": {},
   "source": [
    "#### 5. Mutasi: Mengacak dua kegiatan dalam jadwal untuk variasi."
   ]
  },
  {
   "cell_type": "code",
   "execution_count": 53,
   "metadata": {},
   "outputs": [],
   "source": [
    "# Mutasi jadwal\n",
    "def mutasi(jadwal):\n",
    "    i, j = random.sample(range(len(jadwal)), 2)\n",
    "    jadwal[i], jadwal[j] = jadwal[j], jadwal[i]\n"
   ]
  },
  {
   "cell_type": "markdown",
   "metadata": {},
   "source": [
    "#### 6. Algoritma Genetika: Menjalankan proses seleksi, crossover, dan mutasi selama beberapa generasi untuk menemukan solusi optimal."
   ]
  },
  {
   "cell_type": "code",
   "execution_count": 54,
   "metadata": {},
   "outputs": [],
   "source": [
    "# Algoritma Genetika\n",
    "def algoritma_genetika(ukuran_populasi, generasi):\n",
    "    populasi = inisialisasi_populasi(ukuran_populasi)\n",
    "    \n",
    "    for _ in range(generasi):\n",
    "        populasi = seleksi(populasi)\n",
    "        anak_baru = []\n",
    "        \n",
    "        while len(anak_baru) < ukuran_populasi:\n",
    "            parent1, parent2 = random.sample(populasi, 2)\n",
    "            anak = crossover(parent1, parent2)\n",
    "            \n",
    "            # Mutasi\n",
    "            if random.random() < 0.1:\n",
    "                mutasi(anak)\n",
    "                \n",
    "            anak_baru.append(anak)\n",
    "        \n",
    "        populasi = anak_baru\n",
    "    \n",
    "    # Cari solusi terbaik\n",
    "    solusi_terbaik = max(populasi, key=lambda x: hitung_fitness(x))\n",
    "    return solusi_terbaik, hitung_fitness(solusi_terbaik)\n",
    "\n",
    "# Menjalankan algoritma\n",
    "solusi, fitness = algoritma_genetika(ukuran_populasi=50, generasi=100)"
   ]
  },
  {
   "cell_type": "markdown",
   "metadata": {},
   "source": [
    "#### 7. OUTPUT: solusi terbaik dan total waktu yang memenuhi semua syarat."
   ]
  },
  {
   "cell_type": "code",
   "execution_count": 55,
   "metadata": {},
   "outputs": [
    {
     "name": "stdout",
     "output_type": "stream",
     "text": [
      "Solusi Terbaik: ['A', 'D', 'B', 'C']\n",
      "Total Waktu: 0 jam\n"
     ]
    }
   ],
   "source": [
    "# Menampilkan hasil\n",
    "print(\"Solusi Terbaik:\", solusi)\n",
    "print(\"Total Waktu:\", fitness, \"jam\")"
   ]
  }
 ],
 "metadata": {
  "kernelspec": {
   "display_name": "Python 3",
   "language": "python",
   "name": "python3"
  },
  "language_info": {
   "codemirror_mode": {
    "name": "ipython",
    "version": 3
   },
   "file_extension": ".py",
   "mimetype": "text/x-python",
   "name": "python",
   "nbconvert_exporter": "python",
   "pygments_lexer": "ipython3",
   "version": "3.12.5"
  }
 },
 "nbformat": 4,
 "nbformat_minor": 2
}
